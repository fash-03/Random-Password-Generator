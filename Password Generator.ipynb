{
 "cells": [
  {
   "cell_type": "code",
   "execution_count": 4,
   "id": "21ca9e9c",
   "metadata": {},
   "outputs": [
    {
     "name": "stdout",
     "output_type": "stream",
     "text": [
      "i1vusbK5k7JX8!n\n"
     ]
    }
   ],
   "source": [
    "# password generator\n",
    "\n",
    "import random\n",
    "\n",
    "big_letters = 'ABCDEFGHIJKLMNOPQRSTUVWXYZ'\n",
    "sma_letters = 'abcdefghijklmnopqrstuvwxyz'\n",
    "symbols = '_-.,:/;*!@#$%&)(][<>'\n",
    "numbers = '0123456789'\n",
    "\n",
    "length = 15\n",
    "\n",
    "password = ''.join(random.sample(big_letters + sma_letters + symbols + numbers, length))\n",
    "print(password)\n"
   ]
  },
  {
   "cell_type": "code",
   "execution_count": null,
   "id": "f79a1c6e",
   "metadata": {},
   "outputs": [],
   "source": []
  }
 ],
 "metadata": {
  "kernelspec": {
   "display_name": "Python 3",
   "language": "python",
   "name": "python3"
  },
  "language_info": {
   "codemirror_mode": {
    "name": "ipython",
    "version": 3
   },
   "file_extension": ".py",
   "mimetype": "text/x-python",
   "name": "python",
   "nbconvert_exporter": "python",
   "pygments_lexer": "ipython3",
   "version": "3.8.8"
  }
 },
 "nbformat": 4,
 "nbformat_minor": 5
}
